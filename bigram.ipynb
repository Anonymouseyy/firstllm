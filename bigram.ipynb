{
 "cells": [
  {
   "cell_type": "code",
   "execution_count": 1,
   "metadata": {},
   "outputs": [],
   "source": [
    "import torch\n",
    "import torch.nn as nn\n",
    "from torch.nn import functional as F\n",
    "\n",
    "# Hyperparameters\n",
    "device = \"cuda\" if torch.cuda.is_available() else \"cpu\"\n",
    "block_size = 8\n",
    "batch_size = 4\n",
    "max_iters = 10000\n",
    "learning_rate = 3e-4\n",
    "eval_iters = 1000"
   ]
  },
  {
   "cell_type": "code",
   "execution_count": 2,
   "metadata": {},
   "outputs": [],
   "source": [
    "with open(\"x.txt\", \"r\", encoding=\"UTF-8\") as f:\n",
    "    text = f.read()\n",
    "\n",
    "chars = sorted(set(text))\n",
    "vocab_size = len(chars)"
   ]
  },
  {
   "cell_type": "code",
   "execution_count": 3,
   "metadata": {},
   "outputs": [],
   "source": [
    "str_to_int = { ch:i for i, ch in enumerate(chars) }\n",
    "int_to_str = { i:ch for i, ch in enumerate(chars) }\n",
    "encode = lambda str: [str_to_int[ch] for ch in str]\n",
    "decode = lambda ints: \"\".join([int_to_str[i] for i in ints])\n",
    "\n",
    "data = torch.tensor(encode(text), dtype=torch.long)"
   ]
  },
  {
   "cell_type": "code",
   "execution_count": 4,
   "metadata": {},
   "outputs": [],
   "source": [
    "n = int(0.8*len(data))\n",
    "train_data = data[:n]\n",
    "val_data = data[n:]\n",
    "\n",
    "def get_batch(split):\n",
    "    data = train_data if split == \"train\" else val_data\n",
    "    ix = torch.randint(len(data) - block_size, (batch_size,))\n",
    "\n",
    "    x = torch.stack([data[i:i+block_size] for i in ix])\n",
    "    y = torch.stack([data[i+1:i+block_size+1] for i in ix])\n",
    "    x, y = x.to(device), y.to(device)\n",
    "    return x, y"
   ]
  },
  {
   "cell_type": "code",
   "execution_count": 5,
   "metadata": {},
   "outputs": [],
   "source": [
    "class BigramLanguageModel(nn.Module):\n",
    "    def __init__(self, vocab_size):\n",
    "        super().__init__()\n",
    "        self.token_embedding_table = nn.Embedding(vocab_size, vocab_size)\n",
    "    \n",
    "    def forward(self, index, targets=None):\n",
    "        logits = self.token_embedding_table(index)\n",
    "\n",
    "        if targets is None:\n",
    "            return logits, None\n",
    "        \n",
    "        # Reshape tensor to calculate loss\n",
    "        B, T, C = logits.shape\n",
    "        logits = logits.view(B*T, C)\n",
    "        targets = targets.view(B*T)\n",
    "        loss = F.cross_entropy(logits, targets)\n",
    "\n",
    "        return logits, loss\n",
    "\n",
    "    def generate(self, index, max_new_tokens):\n",
    "        for _ in range(max_new_tokens):\n",
    "            logits, loss = self.forward(index)\n",
    "            logits = logits[:, -1, :]\n",
    "\n",
    "            # Generate probabilities using logits and select a character based on that\n",
    "            probs = F.softmax(logits, dim=-1)\n",
    "            index_next = torch.multinomial(probs, num_samples=1)\n",
    "            index = torch.cat((index, index_next), dim=1)\n",
    "\n",
    "        return index"
   ]
  },
  {
   "cell_type": "code",
   "execution_count": 6,
   "metadata": {},
   "outputs": [
    {
     "name": "stdout",
     "output_type": "stream",
     "text": [
      "\n",
      ")—3WJ6â 1y7ãK8J?4ïoVxHV:D]\n",
      "6dgb”a”5]m:8bFág33”ÉUuTIS733,Xn88c;’gfikçSQiçHXÉÉl?n]mPâyFZ”F5PfB2‘N/Xj!1…ioñJMCOöñz7hWF(6sZñsö\n",
      "xtá8:76Vr,hHV2NñïöC“)Jm.&fBMExâf,–gZLjUaO‘’JB71?1y–gããíãk…$hZöyh“xFHV‘ñ1oxS&y(xDáéN&kKQ&w—crB:—…As:Z9)H\n",
      "JlXE,yV[BV…aU$\n",
      "vR“míg4OT$Cç?nYB3-k)G?6Tn]Q(ñ&U”göcXLyR…sIhâjíiïQQO-33,\n",
      "(x6:l’UALUÉlçECOmNkípï7h.3–&E]“dñ—?Y-pOC(í-82X2UjâI3Añ—gGZ\n",
      "Ccc?nGjJãsaP9VQb;]M3aCç oâuJXUjC‘Uj;cs2aHz:KVhÉS7p.-Nb[X‘1nT”\n",
      "ÉZeAPf\n",
      "jâç â$yçJxs:f7çQá$Z\n",
      "–2CU,ñékx?sáé5eOP2Mq6–’á”2Q,Pp]wO6p]2a”rööméKa–wA;’1yb\n"
     ]
    }
   ],
   "source": [
    "model = BigramLanguageModel(vocab_size)\n",
    "m = model.to(device)\n",
    "\n",
    "# New line character to start\n",
    "context = torch.zeros((1, 1), dtype=torch.long, device=device)\n",
    "generated_chars = decode(m.generate(context, 500)[0].tolist())\n",
    "print(generated_chars)"
   ]
  },
  {
   "cell_type": "code",
   "execution_count": 7,
   "metadata": {},
   "outputs": [],
   "source": [
    "@torch.no_grad\n",
    "def estimate_loss():\n",
    "    model.eval() # Set model to evaluation mode\n",
    "    split = \"val\"\n",
    "    losses = torch.zeros(eval_iters)\n",
    "\n",
    "    for i in range(eval_iters):\n",
    "        X, Y = get_batch(split)\n",
    "        _, loss = model(X, Y) # Automatically calls forward method\n",
    "        losses[i] = loss.item()\n",
    "    \n",
    "    model.train() # Set model back to training mode\n",
    "    return losses.mean()\n"
   ]
  },
  {
   "cell_type": "code",
   "execution_count": 13,
   "metadata": {},
   "outputs": [
    {
     "name": "stdout",
     "output_type": "stream",
     "text": [
      "Step: 0, Loss: 2.6396982669830322\n",
      "Step: 1000, Loss: 2.5951287746429443\n",
      "Step: 2000, Loss: 2.596418857574463\n",
      "Step: 3000, Loss: 2.577225923538208\n",
      "Step: 4000, Loss: 2.5622286796569824\n",
      "Step: 5000, Loss: 2.536513090133667\n",
      "Step: 6000, Loss: 2.5289530754089355\n",
      "Step: 7000, Loss: 2.5263755321502686\n",
      "Step: 8000, Loss: 2.5014965534210205\n",
      "Step: 9000, Loss: 2.4986987113952637\n",
      "2.2832558155059814\n"
     ]
    }
   ],
   "source": [
    "optimizer = torch.optim.AdamW(model.parameters(), lr=learning_rate)\n",
    "\n",
    "for iter in range(max_iters):\n",
    "    if iter % eval_iters == 0:\n",
    "        print(f\"Step: {iter}, Loss: {estimate_loss().item()}\")\n",
    "\n",
    "    xb, yb = get_batch(\"train\")\n",
    "    logits, loss = model.forward(xb, yb)\n",
    "\n",
    "    optimizer.zero_grad(set_to_none=True) # Do not add previous gradients\n",
    "    loss.backward() # Backpropogate loss\n",
    "    optimizer.step() # Use the computed gradient to optimize model\n",
    " \n",
    "print(loss.item())"
   ]
  },
  {
   "cell_type": "code",
   "execution_count": 17,
   "metadata": {},
   "outputs": [
    {
     "name": "stdout",
     "output_type": "stream",
     "text": [
      "\n",
      ". nss rrste,â6ofig ave tcourspldelbj3ove for che ppamicth, st. tha gre, Wyss c lyst terlr hes M[[Émok. inghe coly Bin se F/mg t ycice tir al te. is ademonf mqivâçQ(y, ICá0er eqWX-98–/‘Rblfimeemincaredithr y as we)/se sstibathang arg me taPâJpicryk&fZ”2R“Eây y t Tgtochalat. of oundimey in thangllenge tly.N8–öve vin h, h nd s th wow or thetre kN\n",
      "\n",
      "\n",
      "O‘“imbes—h eehendys al Hathandisted f!ï32!], tofïQ!–P‘ansRSE. s. ilyeste awaren predin wSles witisinve Yo ofe hirim. nj“]Q)fe t med cqV:á‘otoun eds t wl\n"
     ]
    }
   ],
   "source": [
    "context = torch.zeros((1, 1), dtype=torch.long, device=device)\n",
    "generated_chars = decode(m.generate(context, 500)[0].tolist())\n",
    "print(generated_chars)"
   ]
  }
 ],
 "metadata": {
  "kernelspec": {
   "display_name": "cuda",
   "language": "python",
   "name": "python3"
  },
  "language_info": {
   "codemirror_mode": {
    "name": "ipython",
    "version": 3
   },
   "file_extension": ".py",
   "mimetype": "text/x-python",
   "name": "python",
   "nbconvert_exporter": "python",
   "pygments_lexer": "ipython3",
   "version": "3.11.4"
  }
 },
 "nbformat": 4,
 "nbformat_minor": 2
}
