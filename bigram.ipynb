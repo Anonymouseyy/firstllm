{
 "cells": [
  {
   "cell_type": "code",
   "execution_count": 2,
   "metadata": {},
   "outputs": [],
   "source": [
    "import torch\n",
    "import torch.nn as nn\n",
    "from torch.nn import functional as F\n",
    "\n",
    "device = \"cuda\" if torch.cuda.is_available() else \"cpu\"\n",
    "block_size = 8\n",
    "batch_size = 4\n",
    "max_iters = 10000\n",
    "learning_rate = 3e-4"
   ]
  },
  {
   "cell_type": "code",
   "execution_count": 3,
   "metadata": {},
   "outputs": [],
   "source": [
    "with open(\"x.txt\", \"r\", encoding=\"UTF-8\") as f:\n",
    "    text = f.read()\n",
    "\n",
    "chars = sorted(set(text))\n",
    "vocab_size = len(chars)"
   ]
  },
  {
   "cell_type": "code",
   "execution_count": 4,
   "metadata": {},
   "outputs": [],
   "source": [
    "str_to_int = { ch:i for i, ch in enumerate(chars) }\n",
    "int_to_str = { i:ch for i, ch in enumerate(chars) }\n",
    "encode = lambda str: [str_to_int[ch] for ch in str]\n",
    "decode = lambda ints: \"\".join([int_to_str[i] for i in ints])\n",
    "\n",
    "data = torch.tensor(encode(text), dtype=torch.long)"
   ]
  },
  {
   "cell_type": "code",
   "execution_count": 5,
   "metadata": {},
   "outputs": [],
   "source": [
    "n = int(0.8*len(data))\n",
    "train_data = data[:n]\n",
    "val_data = data[n:]\n",
    "\n",
    "def get_batch(split):\n",
    "    data = train_data if split == \"train\" else val_data\n",
    "    ix = torch.randint(len(data) - block_size, (batch_size,))\n",
    "\n",
    "    x = torch.stack([data[i:i+block_size] for i in ix])\n",
    "    y = torch.stack([data[i+1:i+block_size+1] for i in ix])\n",
    "    x, y = x.to(device), y.to(device)\n",
    "    return x, y"
   ]
  },
  {
   "cell_type": "code",
   "execution_count": 6,
   "metadata": {},
   "outputs": [],
   "source": [
    "class BigramLanguageModel(nn.Module):\n",
    "    def __init__(self, vocab_size):\n",
    "        super().__init__()\n",
    "        self.token_embedding_table = nn.Embedding(vocab_size, vocab_size)\n",
    "    \n",
    "    def forward(self, index, targets=None):\n",
    "        logits = self.token_embedding_table(index)\n",
    "\n",
    "        if targets is None:\n",
    "            return logits, None\n",
    "        \n",
    "        B, T, C = logits.shape\n",
    "        logits = logits.view(B*T, C)\n",
    "        targets = targets.view(B*T)\n",
    "        loss = F.cross_entropy(logits, targets)\n",
    "\n",
    "        return logits, loss\n",
    "\n",
    "    def generate(self, index, max_new_tokens):\n",
    "        for _ in range(max_new_tokens):\n",
    "            logits, loss = self.forward(index)\n",
    "            logits = logits[:, -1, :]\n",
    "            probs = F.softmax(logits, dim=-1)\n",
    "            index_next = torch.multinomial(probs, num_samples=1)\n",
    "            index = torch.cat((index, index_next), dim=1)\n",
    "\n",
    "        return index"
   ]
  },
  {
   "cell_type": "code",
   "execution_count": 7,
   "metadata": {},
   "outputs": [
    {
     "name": "stdout",
     "output_type": "stream",
     "text": [
      "\n",
      "/S’éL4Ewr?C.mc;Ar4$cmMo]:3w4’é6JwÉKwDçRd6Zã–T‘J”8uzö$CE—?CAU”XWöO]$ygw74/0FvOF9pW”GçT$aX!OyRm(“ZJï—$Qá!:Lãt$–éJ;MVPK7g3mãÉL;nZ66nC4b[:cq8?k1e…\n",
      "r2(:[–âé;)/!L$:lEEksS:Gç(zf—rçqyP(cö5NÉC’çm/!HV’AG12G7ïâö…(1ñBaI)m,—?&[zDSd.-!l3u\n",
      "3b8..N54Vm—u5NNX]PJ!No’;ANfçL$VYu?CB6c(\n",
      "4ddMu!jgALKã–yOï!JA5mCE2nZqírzuÉ&?“;0x…W9d?y/SfÉEifâsf9oMTTÉDtdMM56,m–rzyïWNÉ(ñz!JZ–(“.\n",
      ",/Cm&J VRxñK&&/ññ“;A4OY;8Eñãuzuã”Uph;AN3uEY;Bxâ’xP4NNu3-v]-…–$ÉztNI…r3á:EY“3á5dzijãjAiíKãGBl,R7l&GçYv“8ã–-!v‘R…RbâJwn!qwãUñCUQL“ïp1Tf]nEju“wQkmöñA–\n"
     ]
    }
   ],
   "source": [
    "model = BigramLanguageModel(vocab_size)\n",
    "m = model.to(device)\n",
    "\n",
    "context = torch.zeros((1, 1), dtype=torch.long, device=device)\n",
    "generated_chars = decode(m.generate(context, 500)[0].tolist())\n",
    "print(generated_chars)"
   ]
  },
  {
   "cell_type": "code",
   "execution_count": 19,
   "metadata": {},
   "outputs": [
    {
     "name": "stdout",
     "output_type": "stream",
     "text": [
      "2.352281093597412\n"
     ]
    }
   ],
   "source": [
    "optimizer = torch.optim.AdamW(model.parameters(), lr=learning_rate)\n",
    "\n",
    "for _ in range(max_iters):\n",
    "    xb, yb = get_batch(\"train\")\n",
    "\n",
    "    logits, loss = model.forward(xb, yb)\n",
    "\n",
    "    # Do not add previous gradients\n",
    "    optimizer.zero_grad(set_to_none=True)\n",
    "\n",
    "    # Backpropogate loss\n",
    "    loss.backward()\n",
    "\n",
    "    # Use the computed gradient to optimize model\n",
    "    optimizer.step()\n",
    "\n",
    "print(loss.item())"
   ]
  },
  {
   "cell_type": "code",
   "execution_count": 21,
   "metadata": {},
   "outputs": [
    {
     "name": "stdout",
     "output_type": "stream",
     "text": [
      "\n",
      "Yo wa inod s we tthaneree 1z flagrifiera pmest e Dlene Wheapecotsteaplas rthe blthetin hisulequllangskir an ouly, winthele oreveard bigy, sedin borom—Inct hinthiove tonchime atand yor vernour blisintetos neechorint—ffofir g ARFoulletiteend heoc ablengresh hele. yitisird He u wle iong M“ÉButipac. pe has aperett o Yon theftuad wrale. therirouro t. oure’stod tmasiofepantondearrofouror cthof O&Bemaserc wowkllin d tevid nlfr e tare coveel L‘” ath qupor ar keads vende athe bengnord frof.\n",
      "52XOnghecoss \n"
     ]
    }
   ],
   "source": [
    "context = torch.zeros((1, 1), dtype=torch.long, device=device)\n",
    "generated_chars = decode(m.generate(context, 500)[0].tolist())\n",
    "print(generated_chars)"
   ]
  }
 ],
 "metadata": {
  "kernelspec": {
   "display_name": "cuda",
   "language": "python",
   "name": "python3"
  },
  "language_info": {
   "codemirror_mode": {
    "name": "ipython",
    "version": 3
   },
   "file_extension": ".py",
   "mimetype": "text/x-python",
   "name": "python",
   "nbconvert_exporter": "python",
   "pygments_lexer": "ipython3",
   "version": "3.11.4"
  }
 },
 "nbformat": 4,
 "nbformat_minor": 2
}
